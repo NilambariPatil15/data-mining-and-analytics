{
 "cells": [
  {
   "cell_type": "code",
   "execution_count": 3,
   "metadata": {},
   "outputs": [
    {
     "name": "stdout",
     "output_type": "stream",
     "text": [
      "(70, 7)\n"
     ]
    },
    {
     "data": {
      "text/html": [
       "<div>\n",
       "<style scoped>\n",
       "    .dataframe tbody tr th:only-of-type {\n",
       "        vertical-align: middle;\n",
       "    }\n",
       "\n",
       "    .dataframe tbody tr th {\n",
       "        vertical-align: top;\n",
       "    }\n",
       "\n",
       "    .dataframe thead th {\n",
       "        text-align: right;\n",
       "    }\n",
       "</style>\n",
       "<table border=\"1\" class=\"dataframe\">\n",
       "  <thead>\n",
       "    <tr style=\"text-align: right;\">\n",
       "      <th></th>\n",
       "      <th>Year</th>\n",
       "      <th>Population</th>\n",
       "      <th>ChangePerc</th>\n",
       "      <th>NetChange</th>\n",
       "      <th>Density</th>\n",
       "      <th>Urban</th>\n",
       "      <th>UrbanPerc</th>\n",
       "    </tr>\n",
       "  </thead>\n",
       "  <tbody>\n",
       "    <tr>\n",
       "      <th>0</th>\n",
       "      <td>2020</td>\n",
       "      <td>7794798739</td>\n",
       "      <td>1.05</td>\n",
       "      <td>81330639</td>\n",
       "      <td>52</td>\n",
       "      <td>4378993944</td>\n",
       "      <td>56</td>\n",
       "    </tr>\n",
       "    <tr>\n",
       "      <th>1</th>\n",
       "      <td>2019</td>\n",
       "      <td>7713468100</td>\n",
       "      <td>1.08</td>\n",
       "      <td>82377060</td>\n",
       "      <td>52</td>\n",
       "      <td>4299438618</td>\n",
       "      <td>56</td>\n",
       "    </tr>\n",
       "    <tr>\n",
       "      <th>2</th>\n",
       "      <td>2018</td>\n",
       "      <td>7631091040</td>\n",
       "      <td>1.10</td>\n",
       "      <td>83232115</td>\n",
       "      <td>51</td>\n",
       "      <td>4219817318</td>\n",
       "      <td>55</td>\n",
       "    </tr>\n",
       "    <tr>\n",
       "      <th>3</th>\n",
       "      <td>2017</td>\n",
       "      <td>7547858925</td>\n",
       "      <td>1.12</td>\n",
       "      <td>83836876</td>\n",
       "      <td>51</td>\n",
       "      <td>4140188594</td>\n",
       "      <td>55</td>\n",
       "    </tr>\n",
       "    <tr>\n",
       "      <th>4</th>\n",
       "      <td>2016</td>\n",
       "      <td>7464022049</td>\n",
       "      <td>1.14</td>\n",
       "      <td>84224910</td>\n",
       "      <td>50</td>\n",
       "      <td>4060652683</td>\n",
       "      <td>54</td>\n",
       "    </tr>\n",
       "  </tbody>\n",
       "</table>\n",
       "</div>"
      ],
      "text/plain": [
       "   Year  Population  ChangePerc  NetChange  Density       Urban  UrbanPerc\n",
       "0  2020  7794798739        1.05   81330639       52  4378993944         56\n",
       "1  2019  7713468100        1.08   82377060       52  4299438618         56\n",
       "2  2018  7631091040        1.10   83232115       51  4219817318         55\n",
       "3  2017  7547858925        1.12   83836876       51  4140188594         55\n",
       "4  2016  7464022049        1.14   84224910       50  4060652683         54"
      ]
     },
     "execution_count": 3,
     "metadata": {},
     "output_type": "execute_result"
    }
   ],
   "source": [
    "# linear regression\n",
    "%matplotlib inline\n",
    "import numpy as np\n",
    "import pandas as pd\n",
    "import matplotlib.pyplot as plt\n",
    "plt.rcParams['figure.figsize']=(20.0,10.0)\n",
    "\n",
    "#reading data\n",
    "data=pd.read_csv('C:\\\\Users\\\\lenovo\\\\Desktop\\\\its_learning\\\\data\\\\WorldPopulation.csv')\n",
    "print(data.shape)\n",
    "data.head()"
   ]
  },
  {
   "cell_type": "code",
   "execution_count": 7,
   "metadata": {},
   "outputs": [],
   "source": [
    "x=data.Year.values\n"
   ]
  },
  {
   "cell_type": "code",
   "execution_count": 11,
   "metadata": {},
   "outputs": [
    {
     "data": {
      "text/plain": [
       "array([2020, 2019, 2018, 2017, 2016, 2015, 2014, 2013, 2012, 2011, 2010,\n",
       "       2009, 2008, 2007, 2006, 2005, 2004, 2003, 2002, 2001, 2000, 1999,\n",
       "       1998, 1997, 1996, 1995, 1994, 1993, 1992, 1991, 1990, 1989, 1988,\n",
       "       1987, 1986, 1985, 1984, 1983, 1982, 1981, 1980, 1979, 1978, 1977,\n",
       "       1976, 1975, 1974, 1973, 1972, 1971, 1970, 1969, 1968, 1967, 1966,\n",
       "       1965, 1964, 1963, 1962, 1961, 1960, 1959, 1958, 1957, 1956, 1955,\n",
       "       1954, 1953, 1952, 1951], dtype=int64)"
      ]
     },
     "execution_count": 11,
     "metadata": {},
     "output_type": "execute_result"
    }
   ],
   "source": [
    "x"
   ]
  },
  {
   "cell_type": "code",
   "execution_count": 9,
   "metadata": {},
   "outputs": [],
   "source": [
    "x=data['Year'].values\n"
   ]
  },
  {
   "cell_type": "code",
   "execution_count": 12,
   "metadata": {},
   "outputs": [
    {
     "name": "stdout",
     "output_type": "stream",
     "text": [
      "[2020 2019 2018 2017 2016 2015 2014 2013 2012 2011 2010 2009 2008 2007\n",
      " 2006 2005 2004 2003 2002 2001 2000 1999 1998 1997 1996 1995 1994 1993\n",
      " 1992 1991 1990 1989 1988 1987 1986 1985 1984 1983 1982 1981 1980 1979\n",
      " 1978 1977 1976 1975 1974 1973 1972 1971 1970 1969 1968 1967 1966 1965\n",
      " 1964 1963 1962 1961 1960 1959 1958 1957 1956 1955 1954 1953 1952 1951]\n"
     ]
    }
   ],
   "source": [
    "print(x)"
   ]
  },
  {
   "cell_type": "code",
   "execution_count": 13,
   "metadata": {},
   "outputs": [
    {
     "data": {
      "text/plain": [
       "array([7794798739, 7713468100, 7631091040, 7547858925, 7464022049,\n",
       "       7379797139, 7295290765, 7210581976, 7125828059, 7041194301,\n",
       "       6956823603, 6872767093, 6789088686, 6705946610, 6623517833,\n",
       "       6541907027, 6461159389, 6381185114, 6301773188, 6222626606,\n",
       "       6143493823, 6064239055, 5984793942, 5905045788, 5824891951,\n",
       "       5744212979, 5663150427, 5581597546, 5498919809, 5414289444,\n",
       "       5327231061, 5237441558, 5145426008, 5052522147, 4960567912,\n",
       "       4870921740, 4784011621, 4699569304, 4617386542, 4536996762,\n",
       "       4458003514, 4380506100, 4304533501, 4229506060, 4154666864,\n",
       "       4079480606, 4003794172, 3927780238, 3851650245, 3775759617,\n",
       "       3700437046, 3625680627, 3551599127, 3478769962, 3407922630,\n",
       "       3339583597, 3273978338, 3211001009, 3150420795, 3091843507,\n",
       "       3034949748, 2979576185, 2925686705, 2873306090, 2822443282,\n",
       "       2773019936, 2724846741, 2677608960, 2630861562, 2584034261],\n",
       "      dtype=int64)"
      ]
     },
     "execution_count": 13,
     "metadata": {},
     "output_type": "execute_result"
    }
   ],
   "source": [
    "y=data.Population.values\n",
    "y"
   ]
  },
  {
   "cell_type": "code",
   "execution_count": 14,
   "metadata": {},
   "outputs": [
    {
     "data": {
      "text/plain": [
       "array([7794798739, 7713468100, 7631091040, 7547858925, 7464022049,\n",
       "       7379797139, 7295290765, 7210581976, 7125828059, 7041194301,\n",
       "       6956823603, 6872767093, 6789088686, 6705946610, 6623517833,\n",
       "       6541907027, 6461159389, 6381185114, 6301773188, 6222626606,\n",
       "       6143493823, 6064239055, 5984793942, 5905045788, 5824891951,\n",
       "       5744212979, 5663150427, 5581597546, 5498919809, 5414289444,\n",
       "       5327231061, 5237441558, 5145426008, 5052522147, 4960567912,\n",
       "       4870921740, 4784011621, 4699569304, 4617386542, 4536996762,\n",
       "       4458003514, 4380506100, 4304533501, 4229506060, 4154666864,\n",
       "       4079480606, 4003794172, 3927780238, 3851650245, 3775759617,\n",
       "       3700437046, 3625680627, 3551599127, 3478769962, 3407922630,\n",
       "       3339583597, 3273978338, 3211001009, 3150420795, 3091843507,\n",
       "       3034949748, 2979576185, 2925686705, 2873306090, 2822443282,\n",
       "       2773019936, 2724846741, 2677608960, 2630861562, 2584034261],\n",
       "      dtype=int64)"
      ]
     },
     "execution_count": 14,
     "metadata": {},
     "output_type": "execute_result"
    }
   ],
   "source": [
    "y=data['Population'].values\n",
    "y"
   ]
  },
  {
   "cell_type": "code",
   "execution_count": 15,
   "metadata": {},
   "outputs": [],
   "source": [
    "mean_x=np.mean(x)\n",
    "mean_y=np.mean(y)\n",
    "n=len(x)"
   ]
  },
  {
   "cell_type": "code",
   "execution_count": 16,
   "metadata": {},
   "outputs": [
    {
     "name": "stdout",
     "output_type": "stream",
     "text": [
      "78243020.52145919 -150349507435.55725\n"
     ]
    }
   ],
   "source": [
    "numer=0\n",
    "denom=0\n",
    "for i in range(n):\n",
    "    numer=numer+(x[i]-mean_x)*(y[i]-mean_y)\n",
    "    denom+=(x[i]-mean_x)**2\n",
    "b1=numer/denom\n",
    "b0=mean_y-(b1*mean_x)\n",
    "\n",
    "print(b1,b0)"
   ]
  },
  {
   "cell_type": "code",
   "execution_count": 40,
   "metadata": {},
   "outputs": [
    {
     "data": {
      "text/plain": [
       "<matplotlib.collections.PathCollection at 0x25f18dd11c0>"
      ]
     },
     "execution_count": 40,
     "metadata": {},
     "output_type": "execute_result"
    },
    {
     "data": {
      "image/png": "[encoded data removed]",
      "text/plain": [
       "<Figure size 1440x720 with 1 Axes>"
      ]
     },
     "metadata": {
      "needs_background": "light"
     },
     "output_type": "display_data"
    }
   ],
   "source": [
    "max_x=np.max(x)+100\n",
    "min_x=np.min(x)-100\n",
    "\n",
    "x=np.linspace(min_x,max_x,70)\n",
    "y=b0+b1*x\n",
    "\n",
    "plt.plot(x,y,color ='black', label='Regression Line')\n",
    "plt.scatter(x,y,c='red',label='scatter plot')"
   ]
  },
  {
   "cell_type": "code",
   "execution_count": 41,
   "metadata": {},
   "outputs": [
    {
     "name": "stdout",
     "output_type": "stream",
     "text": [
      "1.0\n"
     ]
    }
   ],
   "source": [
    "# for square error (R^2)\n",
    "\n",
    "ss_t=0\n",
    "ss_r=0\n",
    "for i in range(n):\n",
    "    y_pred=b0+b1*x[i]\n",
    "    ss_t=ss_t+(y[i]-mean_y)**2\n",
    "    ss_r=ss_r+(y[i]-y_pred)**2\n",
    "    \n",
    "r2=1-(ss_r/ss_t)\n",
    "print(r2)"
   ]
  },
  {
   "cell_type": "code",
   "execution_count": 42,
   "metadata": {},
   "outputs": [
    {
     "name": "stdout",
     "output_type": "stream",
     "text": [
      "6.377996519157346e-05\n",
      "1.0\n"
     ]
    }
   ],
   "source": [
    "#using sklearn\n",
    "\n",
    "from sklearn.linear_model import LinearRegression\n",
    "from sklearn.metrics import mean_squared_error\n",
    "\n",
    "x=x.reshape((n,1))\n",
    "\n",
    "reg=LinearRegression() #creating model\n",
    "reg=reg.fit(x,y) #fitting training data\n",
    "y_pred=reg.predict(x) #y prediction \n",
    "\n",
    "#calculating RMSE and R2 score\n",
    "\n",
    "mse=mean_squared_error(y,y_pred)\n",
    "rmse=np.sqrt(mse)\n",
    "r2_score=reg.score(x,y)\n",
    "\n",
    "print(np.sqrt(mse))\n",
    "print(r2_score)\n"
   ]
  },
  {
   "cell_type": "code",
   "execution_count": null,
   "metadata": {},
   "outputs": [],
   "source": []
  }
 ],
 "metadata": {
  "kernelspec": {
   "display_name": "Python 3",
   "language": "python",
   "name": "python3"
  },
  "language_info": {
   "codemirror_mode": {
    "name": "ipython",
    "version": 3
   },
   "file_extension": ".py",
   "mimetype": "text/x-python",
   "name": "python",
   "nbconvert_exporter": "python",
   "pygments_lexer": "ipython3",
   "version": "3.8.5"
  }
 },
 "nbformat": 4,
 "nbformat_minor": 4
}
